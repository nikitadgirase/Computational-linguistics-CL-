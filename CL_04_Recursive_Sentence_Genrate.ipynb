{
 "cells": [
  {
   "cell_type": "code",
   "execution_count": 15,
   "id": "9445f705",
   "metadata": {},
   "outputs": [
    {
     "name": "stdout",
     "output_type": "stream",
     "text": [
      "a dog pet you\n",
      "I see the bird\n",
      "the dog pet a cat\n",
      "a cat see a dog\n",
      "I see you\n",
      "I pet you\n"
     ]
    }
   ],
   "source": [
    "#Generate recursive set of sentences using Context Free Grammar\n",
    "import random\n",
    "# Define the context-free grammar rules\n",
    "grammer_rule={\n",
    "    'S':['NP VP'],\n",
    "    'NP':['Det N','Pro'],\n",
    "    'VP':['V NP','V'],\n",
    "    'Det':['the','a'],\n",
    "    'N':['cat','dog','bird','duck'],\n",
    "    'Pro':['I','you'],\n",
    "    'V':['see','pet']\n",
    "}\n",
    "# Define a recursive function to generate sentences\n",
    "def ge_s(symbol):\n",
    "    if symbol not in grammer_rule:\n",
    "        return symbol\n",
    "    else:\n",
    "        exps=grammer_rule[symbol]\n",
    "        exp=random.choice(exps)\n",
    "        words=exp.split()\n",
    "        sen=''\n",
    "        for word in words:\n",
    "            sen+=ge_s(word)+' '\n",
    "        return sen.strip()\n",
    "for i in range(6):\n",
    "    sen=ge_s('S')\n",
    "    print(sen)"
   ]
  },
  {
   "cell_type": "code",
   "execution_count": 14,
   "id": "9f40c45b",
   "metadata": {},
   "outputs": [
    {
     "name": "stdout",
     "output_type": "stream",
     "text": [
      "Synset('duck.n.01') : small wild or domesticated web-footed broad-billed swimming bird usually having a depressed body and short legs\n",
      "Synset('duck.n.02') : (cricket) a score of nothing by a batsman\n",
      "Synset('duck.n.03') : flesh of a duck (domestic or wild)\n",
      "Synset('duck.n.04') : a heavy cotton fabric of plain weave; used for clothing and tents\n",
      "Synset('duck.v.01') : to move (the head or body) quickly downwards or away\n",
      "Synset('duck.v.02') : submerge or plunge suddenly\n",
      "Synset('dip.v.10') : dip into a liquid\n",
      "Synset('hedge.v.01') : avoid or try to avoid fulfilling, answering, or performing (duties, questions, or issues)\n"
     ]
    }
   ],
   "source": [
    "#Identify the word senses using “synset\" in NLTK\n",
    "import nltk\n",
    "from nltk.corpus import wordnet\n",
    "syn=wordnet.synsets(\"duck\")\n",
    "for synset in syn:\n",
    "    print(synset,\":\",synset.definition())"
   ]
  },
  {
   "cell_type": "code",
   "execution_count": null,
   "id": "ff8c7ba0",
   "metadata": {},
   "outputs": [],
   "source": []
  }
 ],
 "metadata": {
  "kernelspec": {
   "display_name": "Python 3 (ipykernel)",
   "language": "python",
   "name": "python3"
  },
  "language_info": {
   "codemirror_mode": {
    "name": "ipython",
    "version": 3
   },
   "file_extension": ".py",
   "mimetype": "text/x-python",
   "name": "python",
   "nbconvert_exporter": "python",
   "pygments_lexer": "ipython3",
   "version": "3.11.0"
  }
 },
 "nbformat": 4,
 "nbformat_minor": 5
}
