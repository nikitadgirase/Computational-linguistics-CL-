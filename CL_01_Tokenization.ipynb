{
 "cells": [
  {
   "cell_type": "code",
   "execution_count": 6,
   "id": "dd50ab60",
   "metadata": {},
   "outputs": [
    {
     "name": "stdout",
     "output_type": "stream",
     "text": [
      "['Hello', 'everyone', '.', 'Welcome', 'to', 'CSE', '(', 'Data', 'Science', ')', 'RCPIT']\n",
      "['Hello everyone.', 'Welcome to CSE (Data Science) RCPIT']\n"
     ]
    },
    {
     "data": {
      "text/plain": [
       "(list, 2)"
      ]
     },
     "execution_count": 6,
     "metadata": {},
     "output_type": "execute_result"
    }
   ],
   "source": [
    "#1.Tokenization (Word)\n",
    "import nltk\n",
    "from nltk.tokenize import word_tokenize \n",
    "sen=\"Hello everyone. Welcome to CSE (Data Science) RCPIT\"\n",
    "token=word_tokenize(sen)\n",
    "print (token)\n",
    "type(token), len(token)\n",
    "\n",
    "#1.Tokenization (Sentence)\n",
    "import nltk\n",
    "from nltk.tokenize import sent_tokenize \n",
    "sen=\"Hello everyone. Welcome to CSE (Data Science) RCPIT\"\n",
    "token=sent_tokenize(sen)\n",
    "print (token)\n",
    "type(token), len(token)"
   ]
  },
  {
   "cell_type": "code",
   "execution_count": 7,
   "id": "5cbbe866",
   "metadata": {},
   "outputs": [
    {
     "name": "stdout",
     "output_type": "stream",
     "text": [
      "Stop Word Detection\n",
      "is\n",
      "a\n",
      "off\n",
      "the\n",
      "Stop Word Removing\n",
      "This\n",
      "sample\n",
      "sentence\n",
      ",\n",
      "showing\n",
      "stop\n",
      "words\n",
      "filtration\n",
      ".\n"
     ]
    }
   ],
   "source": [
    "#2.Stop Word Detection/Removing\n",
    "import nltk\n",
    "from nltk.tokenize import word_tokenize\n",
    "from nltk.corpus import stopwords\n",
    "sent=\"\"\"This is a sample sentence, showing off the stop words filtration.\"\"\"\n",
    "token=word_tokenize(sent)\n",
    "stop_word = set(stopwords.words('english'))\n",
    "print(\"Stop Word Detection\")\n",
    "for w in token:\n",
    "    if w in stop_word:\n",
    "        print(w)\n",
    "print(\"Stop Word Removing\")\n",
    "for w in token:\n",
    "    if w not in stop_word:\n",
    "        print(w)"
   ]
  },
  {
   "cell_type": "code",
   "execution_count": 8,
   "id": "fd1065f0",
   "metadata": {},
   "outputs": [
    {
     "name": "stdout",
     "output_type": "stream",
     "text": [
      "\n",
      "Using PorterStemmer Algorithm\n",
      "\n",
      "cats : cat\n",
      "walking : walk\n",
      "king : king\n",
      "palyed : pali\n",
      "giving : give\n",
      "give : give\n",
      "Gave : gave\n",
      "preplanning : preplan\n",
      "retrieval : retriev\n",
      "retrieved : retriev\n",
      "retrieves : retriev\n",
      "likes : like\n",
      "liked : like\n",
      "likely : like\n",
      "liking : like\n",
      "\n",
      "Using LancasterStemmer Algorithm\n",
      "\n",
      "cats : cat\n",
      "walking : walk\n",
      "king : king\n",
      "palyed : paly\n",
      "giving : giv\n",
      "give : giv\n",
      "Gave : gav\n",
      "preplanning : preplan\n",
      "retrieval : retriev\n",
      "retrieved : retriev\n",
      "retrieves : retriev\n",
      "likes : lik\n",
      "liked : lik\n",
      "likely : lik\n",
      "liking : lik\n"
     ]
    }
   ],
   "source": [
    "#3.Stemming using PorterSStemmer Algorithm\n",
    "import nltk\n",
    "print(\"\\nUsing PorterStemmer Algorithm\\n\")\n",
    "from nltk.stem import PorterStemmer\n",
    "pst=PorterStemmer()\n",
    "sen=[\"cats\", \"walking\", \"king\", \"palyed\", \"giving\", \"give\", \"Gave\",\"preplanning\", \"retrieval\", \"retrieved\", \"retrieves\", \"likes\",\"liked\", \"likely\", \"liking\"]\n",
    "for i in sen:\n",
    "    print(i, \":\", pst.stem(i))\n",
    "#Stemming using PorterSStemmer Algorithm\n",
    "print(\"\\nUsing LancasterStemmer Algorithm\\n\")\n",
    "from nltk.stem import LancasterStemmer \n",
    "pst=LancasterStemmer()\n",
    "for i in sen:\n",
    "    print(i, \":\", pst.stem(i))\n",
    "    "
   ]
  },
  {
   "cell_type": "code",
   "execution_count": 4,
   "id": "4d33212d",
   "metadata": {},
   "outputs": [
    {
     "name": "stdout",
     "output_type": "stream",
     "text": [
      "\n",
      "Using PorterStemmer Algorithm\n",
      "\n",
      "cats : cat\n",
      "walking : walk\n",
      "king : king\n",
      "palyed : pali\n",
      "giving : give\n",
      "give : give\n",
      "Gave : gave\n",
      "preplanning : preplan\n",
      "retrieval : retriev\n",
      "retrieved : retriev\n",
      "retrieves : retriev\n",
      "likes : like\n",
      "liked : like\n",
      "likely : like\n",
      "liking : like\n",
      "\n",
      "Using LancasterStemmer Algorithm\n",
      "\n",
      "cats : cat\n",
      "walking : walk\n",
      "king : king\n",
      "palyed : paly\n",
      "giving : giv\n",
      "give : giv\n",
      "Gave : gav\n",
      "preplanning : preplan\n",
      "retrieval : retriev\n",
      "retrieved : retriev\n",
      "retrieves : retriev\n",
      "likes : lik\n",
      "liked : lik\n",
      "likely : lik\n",
      "liking : lik\n"
     ]
    }
   ],
   "source": [
    "#3.Stemming using PorterSStemmer Algorithm\n",
    "import nltk\n",
    "print(\"\\nUsing PorterStemmer Algorithm\\n\")\n",
    "from nltk.stem import PorterStemmer\n",
    "pst=PorterStemmer()\n",
    "sen=[\"cats\", \"walking\", \"king\", \"palyed\", \"giving\", \"give\", \"Gave\",\"preplanning\", \"retrieval\", \"retrieved\", \"retrieves\", \"likes\",\"liked\", \"likely\", \"liking\"]\n",
    "for i in sen:\n",
    "    print(i, \":\", pst.stem(i))\n",
    "#Stemming using PorterSStemmer Algorithm\n",
    "print(\"\\nUsing LancasterStemmer Algorithm\\n\")\n",
    "from nltk.stem import LancasterStemmer \n",
    "pst=LancasterStemmer()\n",
    "for i in sen:\n",
    "    print(i, \":\", pst.stem(i))\n",
    "    "
   ]
  },
  {
   "cell_type": "code",
   "execution_count": 9,
   "id": "febefde7",
   "metadata": {},
   "outputs": [
    {
     "name": "stdout",
     "output_type": "stream",
     "text": [
      "rocks : rock\n",
      "corpora : corpus\n",
      "better : better\n"
     ]
    }
   ],
   "source": [
    "#4.Lemmatization?\n",
    "import nltk\n",
    "from nltk.stem import wordnet\n",
    "from nltk.stem import WordNetLemmatizer\n",
    "list=[\"rocks\", \"corpora\", \"better\"]\n",
    "lemmatizer= WordNetLemmatizer()\n",
    "for i in list:\n",
    "    print(i, \":\", lemmatizer.lemmatize(i))\n"
   ]
  },
  {
   "cell_type": "code",
   "execution_count": null,
   "id": "2b3ecf9b",
   "metadata": {},
   "outputs": [],
   "source": []
  }
 ],
 "metadata": {
  "kernelspec": {
   "display_name": "Python 3 (ipykernel)",
   "language": "python",
   "name": "python3"
  },
  "language_info": {
   "codemirror_mode": {
    "name": "ipython",
    "version": 3
   },
   "file_extension": ".py",
   "mimetype": "text/x-python",
   "name": "python",
   "nbconvert_exporter": "python",
   "pygments_lexer": "ipython3",
   "version": "3.11.0"
  }
 },
 "nbformat": 4,
 "nbformat_minor": 5
}
