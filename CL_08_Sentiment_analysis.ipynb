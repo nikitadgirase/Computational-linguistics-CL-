{
 "cells": [
  {
   "cell_type": "code",
   "execution_count": 1,
   "id": "c9926d8c",
   "metadata": {},
   "outputs": [
    {
     "name": "stdout",
     "output_type": "stream",
     "text": [
      "{'neg': 0.0, 'neu': 0.381, 'pos': 0.619, 'compound': 0.9078}\n"
     ]
    },
    {
     "name": "stderr",
     "output_type": "stream",
     "text": [
      "[nltk_data] Error loading vader_lexicon: <urlopen error [WinError\n",
      "[nltk_data]     10054] An existing connection was forcibly closed by\n",
      "[nltk_data]     the remote host>\n"
     ]
    }
   ],
   "source": [
    "#1.Sentimental Analysis Using Vade\n",
    "import nltk\n",
    "nltk.download('vader_lexicon')\n",
    "#VADER( Valence Aware Dictionary for Sentiment Reasoning) \n",
    "#is an NLTK module that provides sentiment scores based on the words used.\n",
    "\"\"\"\"It is a rule-based sentiment analyzer in which the terms are generally \n",
    "labeled as per their semantic orientation as either positive or negative.\"\"\"\n",
    "\n",
    "from nltk.sentiment.vader import SentimentIntensityAnalyzer\n",
    "# Initialize the sentiment analyzer\n",
    "sia = SentimentIntensityAnalyzer()\n",
    "\n",
    "# Define the text to be analyzed\n",
    "text = \"I love this product! It works great and I highly recommend it.\"\n",
    "\n",
    "# Analyze the sentiment of the text\n",
    "sentiment_scores = sia.polarity_scores (text)\n",
    "\n",
    "# Print the sentiment scores \n",
    "print(sentiment_scores)"
   ]
  },
  {
   "cell_type": "code",
   "execution_count": 2,
   "id": "b89ad016",
   "metadata": {},
   "outputs": [
    {
     "name": "stdout",
     "output_type": "stream",
     "text": [
      "Polarity: 0.5283333333333333\n",
      "Subjectivity: 0.63\n",
      "Sentiment(polarity=0.5283333333333333, subjectivity=0.63)\n"
     ]
    }
   ],
   "source": [
    "#2. Sentiment Analysis using TextBlob\n",
    "from textblob import TextBlob\n",
    "# Define the text to be analyzed\n",
    "#text = \"I love this product! It works great and I highly recommend it.\"\n",
    "#text = \"I don't love this product! It works bad and I less recommend it.\"\n",
    "# Analyze the sentiment of the text \n",
    "blob = TextBlob(text)\n",
    "sentiment  = blob.sentiment\n",
    "print('Polarity:', sentiment.polarity)\n",
    "print('Subjectivity:', sentiment.subjectivity)\n",
    "print(sentiment)"
   ]
  },
  {
   "cell_type": "code",
   "execution_count": null,
   "id": "c5a0b4f9",
   "metadata": {},
   "outputs": [],
   "source": []
  }
 ],
 "metadata": {
  "kernelspec": {
   "display_name": "Python 3 (ipykernel)",
   "language": "python",
   "name": "python3"
  },
  "language_info": {
   "codemirror_mode": {
    "name": "ipython",
    "version": 3
   },
   "file_extension": ".py",
   "mimetype": "text/x-python",
   "name": "python",
   "nbconvert_exporter": "python",
   "pygments_lexer": "ipython3",
   "version": "3.11.0"
  }
 },
 "nbformat": 4,
 "nbformat_minor": 5
}
